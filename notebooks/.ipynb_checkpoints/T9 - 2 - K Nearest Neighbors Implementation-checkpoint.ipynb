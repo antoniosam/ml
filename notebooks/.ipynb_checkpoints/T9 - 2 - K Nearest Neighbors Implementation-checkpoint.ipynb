{
 "cells": [
  {
   "cell_type": "markdown",
   "metadata": {},
   "source": [
    "## Creando nuestro propio KNN"
   ]
  },
  {
   "cell_type": "code",
   "execution_count": 1,
   "metadata": {},
   "outputs": [],
   "source": [
    "import numpy as np\n",
    "import matplotlib.pyplot as plt\n",
    "from matplotlib import style\n",
    "import warnings\n",
    "from math import sqrt\n",
    "from collections import Counter"
   ]
  },
  {
   "cell_type": "code",
   "execution_count": 2,
   "metadata": {},
   "outputs": [],
   "source": [
    "dataset = {\n",
    "    'k':[[1,2],[2,3],[3,1]],\n",
    "    'r':[[6,5],[7,7],[8,6]]\n",
    "}\n",
    "new_point = [5,7]"
   ]
  },
  {
   "cell_type": "code",
   "execution_count": 3,
   "metadata": {},
   "outputs": [
    {
     "data": {
      "text/plain": [
       "<matplotlib.collections.PathCollection at 0x26bd018bda0>"
      ]
     },
     "execution_count": 3,
     "metadata": {},
     "output_type": "execute_result"
    },
    {
     "data": {
      "image/png": "[encoded data removed]",
      "text/plain": [
       "<Figure size 432x288 with 1 Axes>"
      ]
     },
     "metadata": {
      "needs_background": "light"
     },
     "output_type": "display_data"
    }
   ],
   "source": [
    "[[plt.scatter(ii[0],ii[1], s= 50, color=i) for ii in dataset[i]] for i in dataset]\n",
    "plt.scatter(new_point[0], new_point[1], s = 100)"
   ]
  },
  {
   "cell_type": "code",
   "execution_count": 48,
   "metadata": {},
   "outputs": [],
   "source": [
    "def k_nearest_neighbors(data, predict, k = 3, verbose = False):\n",
    "\n",
    "    #if len(data) >= k:\n",
    "        #warnings.warn(\"K es un valor menor que el numero total de elementos a votar !!\")\n",
    "        \n",
    "    distances = []\n",
    "    for group in data:\n",
    "        for feature in data[group]:\n",
    "            #d = sqrt((feactue[0]-predict[0])**2 + (feacture[1]-predict(1))**2) # Distancia euclidea punto a punto\n",
    "            #d = nq.sqrt(np.sum((np.array(feature) - np.array(predict))**2)) # Distancia euclidea, np permite la operacion de todo el dataset\n",
    "            d = np.linalg.norm(np.array(feature) - np.array(predict)) # Numpy ya tiene esta operacion en su core y es lo mas rapido \n",
    "            distances.append([d,group])\n",
    "    if verbose:\n",
    "        print(distances)\n",
    "    \n",
    "    votes = [i[1] for i in sorted(distances)[:k]]# sorted: ordena por la primera columna, como la primera columa es la distancia se ordena\n",
    "                                                #K nos da los primeros 3 datos y obtenemos losla columna 1 que tiene la categoria\n",
    "    if verbose:\n",
    "        print (votes)\n",
    "    \n",
    "    vote_result = Counter(votes).most_common(1)# [('r',2), ('k',1)]\n",
    "    if verbose:\n",
    "        print(vote_result)\n",
    "    \n",
    "    return vote_result[0][0]\n"
   ]
  },
  {
   "cell_type": "code",
   "execution_count": 49,
   "metadata": {},
   "outputs": [
    {
     "name": "stdout",
     "output_type": "stream",
     "text": [
      "[[6.4031242374328485, 'k'], [5.0, 'k'], [6.324555320336759, 'k'], [2.23606797749979, 'r'], [2.0, 'r'], [3.1622776601683795, 'r']]\n",
      "['r', 'r', 'r']\n",
      "[('r', 3)]\n"
     ]
    },
    {
     "data": {
      "text/plain": [
       "'r'"
      ]
     },
     "execution_count": 49,
     "metadata": {},
     "output_type": "execute_result"
    }
   ],
   "source": [
    "result = k_nearest_neighbors(dataset, new_point,3,True)\n",
    "result"
   ]
  },
  {
   "cell_type": "code",
   "execution_count": 50,
   "metadata": {},
   "outputs": [
    {
     "data": {
      "text/plain": [
       "<matplotlib.collections.PathCollection at 0x26bd1421208>"
      ]
     },
     "execution_count": 50,
     "metadata": {},
     "output_type": "execute_result"
    },
    {
     "data": {
      "image/png": "[encoded data removed]",
      "text/plain": [
       "<Figure size 432x288 with 1 Axes>"
      ]
     },
     "metadata": {
      "needs_background": "light"
     },
     "output_type": "display_data"
    }
   ],
   "source": [
    "[[plt.scatter(ii[0],ii[1], s= 50, color=i) for ii in dataset[i]] for i in dataset]\n",
    "plt.scatter(new_point[0], new_point[1], s = 100, color = result)"
   ]
  },
  {
   "cell_type": "code",
   "execution_count": 53,
   "metadata": {},
   "outputs": [
    {
     "name": "stdout",
     "output_type": "stream",
     "text": [
      "[[3.905124837953327, 'k'], [2.5, 'k'], [3.640054944640259, 'k'], [2.0615528128088303, 'r'], [3.905124837953327, 'r'], [4.272001872658765, 'r']]\n",
      "['r', 'k', 'k']\n",
      "[('k', 2)]\n"
     ]
    },
    {
     "data": {
      "text/plain": [
       "<matplotlib.collections.PathCollection at 0x26bd15b3c88>"
      ]
     },
     "execution_count": 53,
     "metadata": {},
     "output_type": "execute_result"
    },
    {
     "data": {
      "image/png": "[encoded data removed]",
      "text/plain": [
       "<Figure size 432x288 with 1 Axes>"
      ]
     },
     "metadata": {
      "needs_background": "light"
     },
     "output_type": "display_data"
    }
   ],
   "source": [
    "new_point =  [4,4.5]\n",
    "result = k_nearest_neighbors(dataset, new_point,3,True)\n",
    "[[plt.scatter(ii[0],ii[1], s= 50, color=i) for ii in dataset[i]] for i in dataset]\n",
    "plt.scatter(new_point[0], new_point[1], s = 100, color = result)"
   ]
  },
  {
   "cell_type": "code",
   "execution_count": 54,
   "metadata": {},
   "outputs": [
    {
     "name": "stdout",
     "output_type": "stream",
     "text": [
      "[[5.0990195135927845, 'k'], [4.47213595499958, 'k'], [3.0, 'k'], [4.0, 'r'], [6.082762530298219, 'r'], [5.385164807134504, 'r']]\n",
      "['k', 'r', 'k']\n",
      "[('k', 2)]\n"
     ]
    },
    {
     "data": {
      "text/plain": [
       "<matplotlib.collections.PathCollection at 0x26bd14fc208>"
      ]
     },
     "execution_count": 54,
     "metadata": {},
     "output_type": "execute_result"
    },
    {
     "data": {
      "image/png": "[encoded data removed]",
      "text/plain": [
       "<Figure size 432x288 with 1 Axes>"
      ]
     },
     "metadata": {
      "needs_background": "light"
     },
     "output_type": "display_data"
    }
   ],
   "source": [
    "new_point =  [6,1]\n",
    "result = k_nearest_neighbors(dataset, new_point,3,True)\n",
    "[[plt.scatter(ii[0],ii[1], s= 50, color=i) for ii in dataset[i]] for i in dataset]\n",
    "plt.scatter(new_point[0], new_point[1], s = 100, color = result)"
   ]
  },
  {
   "cell_type": "markdown",
   "metadata": {},
   "source": [
    "## Aplicando nuestro KNN al Datset del Cancer"
   ]
  },
  {
   "cell_type": "code",
   "execution_count": 7,
   "metadata": {},
   "outputs": [],
   "source": [
    "import pandas as pd"
   ]
  },
  {
   "cell_type": "code",
   "execution_count": 8,
   "metadata": {},
   "outputs": [],
   "source": [
    "df = pd.read_csv(\"../datasets/cancer/breast-cancer-wisconsin.data.txt\", header=None)\n",
    "df.replace(\"?\", -9999, inplace=True)\n",
    "df.columns = [\"name\",\"V1\",\"V2\",\"V3\",\"V4\",\"V5\",\"V6\",\"V7\",\"V8\",\"V9\",\"class\"]\n",
    "df = df.drop([\"name\"],1)"
   ]
  },
  {
   "cell_type": "code",
   "execution_count": 9,
   "metadata": {},
   "outputs": [
    {
     "data": {
      "text/html": [
       "<div>\n",
       "<style scoped>\n",
       "    .dataframe tbody tr th:only-of-type {\n",
       "        vertical-align: middle;\n",
       "    }\n",
       "\n",
       "    .dataframe tbody tr th {\n",
       "        vertical-align: top;\n",
       "    }\n",
       "\n",
       "    .dataframe thead th {\n",
       "        text-align: right;\n",
       "    }\n",
       "</style>\n",
       "<table border=\"1\" class=\"dataframe\">\n",
       "  <thead>\n",
       "    <tr style=\"text-align: right;\">\n",
       "      <th></th>\n",
       "      <th>V1</th>\n",
       "      <th>V2</th>\n",
       "      <th>V3</th>\n",
       "      <th>V4</th>\n",
       "      <th>V5</th>\n",
       "      <th>V6</th>\n",
       "      <th>V7</th>\n",
       "      <th>V8</th>\n",
       "      <th>V9</th>\n",
       "      <th>class</th>\n",
       "    </tr>\n",
       "  </thead>\n",
       "  <tbody>\n",
       "    <tr>\n",
       "      <th>0</th>\n",
       "      <td>5</td>\n",
       "      <td>1</td>\n",
       "      <td>1</td>\n",
       "      <td>1</td>\n",
       "      <td>2</td>\n",
       "      <td>1</td>\n",
       "      <td>3</td>\n",
       "      <td>1</td>\n",
       "      <td>1</td>\n",
       "      <td>2</td>\n",
       "    </tr>\n",
       "    <tr>\n",
       "      <th>1</th>\n",
       "      <td>5</td>\n",
       "      <td>4</td>\n",
       "      <td>4</td>\n",
       "      <td>5</td>\n",
       "      <td>7</td>\n",
       "      <td>10</td>\n",
       "      <td>3</td>\n",
       "      <td>2</td>\n",
       "      <td>1</td>\n",
       "      <td>2</td>\n",
       "    </tr>\n",
       "    <tr>\n",
       "      <th>2</th>\n",
       "      <td>3</td>\n",
       "      <td>1</td>\n",
       "      <td>1</td>\n",
       "      <td>1</td>\n",
       "      <td>2</td>\n",
       "      <td>2</td>\n",
       "      <td>3</td>\n",
       "      <td>1</td>\n",
       "      <td>1</td>\n",
       "      <td>2</td>\n",
       "    </tr>\n",
       "    <tr>\n",
       "      <th>3</th>\n",
       "      <td>6</td>\n",
       "      <td>8</td>\n",
       "      <td>8</td>\n",
       "      <td>1</td>\n",
       "      <td>3</td>\n",
       "      <td>4</td>\n",
       "      <td>3</td>\n",
       "      <td>7</td>\n",
       "      <td>1</td>\n",
       "      <td>2</td>\n",
       "    </tr>\n",
       "    <tr>\n",
       "      <th>4</th>\n",
       "      <td>4</td>\n",
       "      <td>1</td>\n",
       "      <td>1</td>\n",
       "      <td>3</td>\n",
       "      <td>2</td>\n",
       "      <td>1</td>\n",
       "      <td>3</td>\n",
       "      <td>1</td>\n",
       "      <td>1</td>\n",
       "      <td>2</td>\n",
       "    </tr>\n",
       "  </tbody>\n",
       "</table>\n",
       "</div>"
      ],
      "text/plain": [
       "   V1  V2  V3  V4  V5  V6  V7  V8  V9  class\n",
       "0   5   1   1   1   2   1   3   1   1      2\n",
       "1   5   4   4   5   7  10   3   2   1      2\n",
       "2   3   1   1   1   2   2   3   1   1      2\n",
       "3   6   8   8   1   3   4   3   7   1      2\n",
       "4   4   1   1   3   2   1   3   1   1      2"
      ]
     },
     "execution_count": 9,
     "metadata": {},
     "output_type": "execute_result"
    }
   ],
   "source": [
    "df.head()"
   ]
  },
  {
   "cell_type": "code",
   "execution_count": 10,
   "metadata": {},
   "outputs": [],
   "source": [
    "full_data = df.astype(float).values.tolist()"
   ]
  },
  {
   "cell_type": "code",
   "execution_count": 56,
   "metadata": {},
   "outputs": [
    {
     "data": {
      "text/plain": [
       "[[5.0, 2.0, 4.0, 1.0, 1.0, 1.0, 1.0, 1.0, 1.0, 2.0],\n",
       " [10.0, 4.0, 3.0, 10.0, 3.0, 10.0, 7.0, 1.0, 2.0, 4.0],\n",
       " [4.0, 1.0, 1.0, 3.0, 2.0, 1.0, 1.0, 1.0, 1.0, 2.0],\n",
       " [5.0, 1.0, 1.0, 1.0, 2.0, 1.0, 1.0, 1.0, 1.0, 2.0],\n",
       " [1.0, 1.0, 1.0, 1.0, 1.0, 1.0, 3.0, 1.0, 1.0, 2.0]]"
      ]
     },
     "execution_count": 56,
     "metadata": {},
     "output_type": "execute_result"
    }
   ],
   "source": [
    "full_data[:5]"
   ]
  },
  {
   "cell_type": "code",
   "execution_count": 12,
   "metadata": {},
   "outputs": [],
   "source": [
    "import random"
   ]
  },
  {
   "cell_type": "code",
   "execution_count": 13,
   "metadata": {},
   "outputs": [],
   "source": [
    "random.shuffle(full_data)"
   ]
  },
  {
   "cell_type": "code",
   "execution_count": 14,
   "metadata": {},
   "outputs": [],
   "source": [
    "test_size = 0.2"
   ]
  },
  {
   "cell_type": "code",
   "execution_count": 15,
   "metadata": {},
   "outputs": [],
   "source": [
    "train_set = {2:[],4:[]} #creamos un diccionario con dos categorias 2 y 4\n",
    "test_set =  {2:[],4:[]} #creamos un diccionario con dos categorias 2 y 4"
   ]
  },
  {
   "cell_type": "code",
   "execution_count": 16,
   "metadata": {},
   "outputs": [],
   "source": [
    "train_data = full_data[:-int(test_size*len(full_data))] # dividimos full data en train y test\n",
    "test_data = full_data[-int(test_size*len(full_data)):]"
   ]
  },
  {
   "cell_type": "code",
   "execution_count": 57,
   "metadata": {},
   "outputs": [],
   "source": [
    "for i in train_data:\n",
    "    # Llenamos  los diccionario con el valor de la ultima columna y copiamos todo menos la ultima columna\n",
    "    train_set[i[-1]].append(i[:-1]) \n",
    "for i in test_data:\n",
    "    test_set[i[-1]].append(i[:-1])"
   ]
  },
  {
   "cell_type": "code",
   "execution_count": 59,
   "metadata": {},
   "outputs": [
    {
     "name": "stdout",
     "output_type": "stream",
     "text": [
      "[[5.0, 2.0, 4.0, 1.0, 1.0, 1.0, 1.0, 1.0, 1.0], [4.0, 1.0, 1.0, 3.0, 2.0, 1.0, 1.0, 1.0, 1.0]]\n",
      "[[10.0, 4.0, 3.0, 10.0, 3.0, 10.0, 7.0, 1.0, 2.0], [10.0, 4.0, 6.0, 4.0, 5.0, 10.0, 7.0, 1.0, 1.0]]\n"
     ]
    }
   ],
   "source": [
    "print(train_set[2][:2])\n",
    "print(train_set[4][:2])"
   ]
  },
  {
   "cell_type": "code",
   "execution_count": 61,
   "metadata": {},
   "outputs": [
    {
     "name": "stdout",
     "output_type": "stream",
     "text": [
      "Eficacia del KNN 0.9640287769784173\n"
     ]
    }
   ],
   "source": [
    "correct = 0\n",
    "total = 0\n",
    "for group in test_set:\n",
    "    for data in test_set[group]:\n",
    "        vote = k_nearest_neighbors(train_set,data,k=5) # 5 es el valor por default en KNeighborsClassifier\n",
    "        if group == vote:\n",
    "            correct += 1\n",
    "        total += 1\n",
    "print(\"Eficacia del KNN\", correct/total)"
   ]
  },
  {
   "cell_type": "markdown",
   "metadata": {},
   "source": [
    "## La diferencia entre la implementacion y el algoritmo de sklearn es la eficiencia y optimizacion "
   ]
  }
 ],
 "metadata": {
  "kernelspec": {
   "display_name": "Python 3",
   "language": "python",
   "name": "python3"
  },
  "language_info": {
   "codemirror_mode": {
    "name": "ipython",
    "version": 3
   },
   "file_extension": ".py",
   "mimetype": "text/x-python",
   "name": "python",
   "nbconvert_exporter": "python",
   "pygments_lexer": "ipython3",
   "version": "3.7.0"
  }
 },
 "nbformat": 4,
 "nbformat_minor": 2
}
