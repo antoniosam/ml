{
 "cells": [
  {
   "cell_type": "markdown",
   "metadata": {},
   "source": [
    "## El metodo de k-means"
   ]
  },
  {
   "cell_type": "code",
   "execution_count": 1,
   "metadata": {},
   "outputs": [],
   "source": [
    "import numpy as np"
   ]
  },
  {
   "cell_type": "code",
   "execution_count": 2,
   "metadata": {},
   "outputs": [
    {
     "data": {
      "text/plain": [
       "array([[0.45627305, 0.19953185, 0.57251705],\n",
       "       [0.92636735, 0.36143736, 0.72036113],\n",
       "       [0.79967873, 0.51973428, 0.76694456],\n",
       "       [0.02434821, 0.57599663, 0.7717721 ],\n",
       "       [0.65796402, 0.06656305, 0.48393696],\n",
       "       [0.83433412, 0.43383541, 0.04478076],\n",
       "       [0.73657186, 0.91623849, 0.99138791],\n",
       "       [0.52254649, 0.34003037, 0.87615061],\n",
       "       [0.58481349, 0.49880666, 0.64720012],\n",
       "       [0.7939188 , 0.94588448, 0.37993022],\n",
       "       [0.77384568, 0.83664556, 0.760109  ],\n",
       "       [0.35699966, 0.44286296, 0.89235344],\n",
       "       [0.17012147, 0.27670526, 0.53817268],\n",
       "       [0.6384984 , 0.04147275, 0.66641112],\n",
       "       [0.26527962, 0.18527065, 0.02906519],\n",
       "       [0.70593977, 0.91025528, 0.20321372],\n",
       "       [0.25278679, 0.53184092, 0.16696096],\n",
       "       [0.61340017, 0.71808635, 0.72545895],\n",
       "       [0.63986042, 0.63888637, 0.86619472],\n",
       "       [0.41073567, 0.1956806 , 0.2962204 ],\n",
       "       [0.96809848, 0.54824905, 0.95603495],\n",
       "       [0.77155821, 0.73016043, 0.85098528],\n",
       "       [0.47879873, 0.67008629, 0.12002327],\n",
       "       [0.54206711, 0.21794638, 0.14069798],\n",
       "       [0.20112925, 0.3813525 , 0.38173652],\n",
       "       [0.15477929, 0.99024063, 0.77144402],\n",
       "       [0.37755304, 0.57087134, 0.15889347],\n",
       "       [0.72416885, 0.32791461, 0.95627509],\n",
       "       [0.09732885, 0.59844693, 0.39002545],\n",
       "       [0.28145417, 0.24708305, 0.20674337]])"
      ]
     },
     "execution_count": 2,
     "metadata": {},
     "output_type": "execute_result"
    }
   ],
   "source": [
    "data = np.random.random(90).reshape(30,3)\n",
    "data"
   ]
  },
  {
   "cell_type": "code",
   "execution_count": 3,
   "metadata": {},
   "outputs": [
    {
     "data": {
      "text/plain": [
       "array([[0.47879873, 0.67008629, 0.12002327],\n",
       "       [0.6384984 , 0.04147275, 0.66641112]])"
      ]
     },
     "execution_count": 3,
     "metadata": {},
     "output_type": "execute_result"
    }
   ],
   "source": [
    "c1 = np.random.choice(range(len(data)))\n",
    "c2 = np.random.choice(range(len(data)))\n",
    "clust_center = np.vstack([data[c1], data[c2]])\n",
    "clust_center"
   ]
  },
  {
   "cell_type": "code",
   "execution_count": 4,
   "metadata": {},
   "outputs": [],
   "source": [
    "from scipy.cluster.vq import vq"
   ]
  },
  {
   "cell_type": "code",
   "execution_count": 7,
   "metadata": {},
   "outputs": [
    {
     "data": {
      "text/plain": [
       "(array([1, 1, 1, 0, 1, 0, 1, 1, 1, 0, 0, 1, 1, 1, 0, 0, 0, 0, 1, 1, 1, 1,\n",
       "        0, 0, 0, 0, 0, 1, 0, 0]),\n",
       " array([0.25885296, 0.43377009, 0.5146068 , 0.80009667, 0.18521678,\n",
       "        0.43345279, 0.93831946, 0.38284743, 0.46087465, 0.49286602,\n",
       "        0.72422679, 0.53981995, 0.53958909, 0.        , 0.53750348,\n",
       "        0.34087365, 0.26906565, 0.62207228, 0.62993522, 0.46119096,\n",
       "        0.67032858, 0.72530218, 0.        , 0.45701295, 0.47849908,\n",
       "        0.79488137, 0.14698704, 0.41642464, 0.47281354, 0.47475994]))"
      ]
     },
     "execution_count": 7,
     "metadata": {},
     "output_type": "execute_result"
    }
   ],
   "source": [
    "vq(data, clust_center)"
   ]
  },
  {
   "cell_type": "code",
   "execution_count": 9,
   "metadata": {},
   "outputs": [],
   "source": [
    "from scipy.cluster.vq import kmeans"
   ]
  },
  {
   "cell_type": "code",
   "execution_count": 10,
   "metadata": {},
   "outputs": [
    {
     "data": {
      "text/plain": [
       "(array([[0.37270499, 0.51543309, 0.30664534],\n",
       "        [0.67804299, 0.47910801, 0.78215473]]), 0.35355117455793006)"
      ]
     },
     "execution_count": 10,
     "metadata": {},
     "output_type": "execute_result"
    }
   ],
   "source": [
    "kmeans(data,clust_center)"
   ]
  },
  {
   "cell_type": "code",
   "execution_count": 11,
   "metadata": {},
   "outputs": [
    {
     "data": {
      "text/plain": [
       "(array([[0.67150315, 0.64836219, 0.75760292],\n",
       "        [0.37924483, 0.34617891, 0.33119715]]), 0.33915884490050247)"
      ]
     },
     "execution_count": 11,
     "metadata": {},
     "output_type": "execute_result"
    }
   ],
   "source": [
    "kmeans(data,2)"
   ]
  }
 ],
 "metadata": {
  "kernelspec": {
   "display_name": "Python 3",
   "language": "python",
   "name": "python3"
  },
  "language_info": {
   "codemirror_mode": {
    "name": "ipython",
    "version": 3
   },
   "file_extension": ".py",
   "mimetype": "text/x-python",
   "name": "python",
   "nbconvert_exporter": "python",
   "pygments_lexer": "ipython3",
   "version": "3.7.0"
  }
 },
 "nbformat": 4,
 "nbformat_minor": 2
}
